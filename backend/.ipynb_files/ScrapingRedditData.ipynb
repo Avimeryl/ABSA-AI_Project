{
  "nbformat": 4,
  "nbformat_minor": 0,
  "metadata": {
    "colab": {
      "provenance": []
    },
    "kernelspec": {
      "name": "python3",
      "display_name": "Python 3"
    },
    "language_info": {
      "name": "python"
    }
  },
  "cells": [
    {
      "cell_type": "markdown",
      "source": [
        "### Scraping Reddit data"
      ],
      "metadata": {
        "id": "Yal9qRW5E5fu"
      }
    },
    {
      "cell_type": "markdown",
      "source": [
        "## Install Required Libraries"
      ],
      "metadata": {
        "id": "w2gnPuZVdfL3"
      }
    },
    {
      "cell_type": "code",
      "source": [
        "# Install required libraries\n",
        "!pip install praw pandas"
      ],
      "metadata": {
        "id": "lhwkkQ1odlmW"
      },
      "execution_count": null,
      "outputs": []
    },
    {
      "cell_type": "markdown",
      "source": [
        "## Import Libraries"
      ],
      "metadata": {
        "id": "Hx2IWuWxdoQ-"
      }
    },
    {
      "cell_type": "code",
      "source": [
        "# Import libraries\n",
        "import praw\n",
        "import pandas as pd\n",
        "from datetime import datetime"
      ],
      "metadata": {
        "id": "SpmmT1Afdsce"
      },
      "execution_count": null,
      "outputs": []
    },
    {
      "cell_type": "markdown",
      "source": [
        "## Set Up Reddit API Credentials"
      ],
      "metadata": {
        "id": "kbqHIierduX1"
      }
    },
    {
      "cell_type": "code",
      "source": [
        "\n",
        "# API credentials\n",
        "reddit = praw.Reddit(\n",
        "    client_id='eGcM2W6mG3BbMXJveFmxIQ',\n",
        "    client_secret='jVrEOLaxR2gPr3QIsRhf4hUsTMOkvA',\n",
        "    user_agent='sentiment-project-script'\n",
        ")"
      ],
      "metadata": {
        "id": "9NPghfLWdxCO"
      },
      "execution_count": null,
      "outputs": []
    },
    {
      "cell_type": "markdown",
      "source": [
        "## Define Keywords and Subreddits"
      ],
      "metadata": {
        "id": "c2IVqSW8d0De"
      }
    },
    {
      "cell_type": "code",
      "source": [
        "# Define the keywords to search\n",
        "keywords = ['foodpanda', 'grabfood', 'shopeefood', 'grab food', 'food panda', 'grab delivery', 'shopee food']\n",
        "\n",
        "# Use only known valid subreddits\n",
        "subreddits = ['malaysia', 'malaysianfood', 'food', 'casualmalaysia']"
      ],
      "metadata": {
        "id": "fGCz6OPrd3Mm"
      },
      "execution_count": null,
      "outputs": []
    },
    {
      "cell_type": "markdown",
      "source": [
        "## Initialize Data Storage"
      ],
      "metadata": {
        "id": "hnNyugETeAEG"
      }
    },
    {
      "cell_type": "code",
      "source": [
        "# Prepare to store results with comments included\n",
        "posts_data = []"
      ],
      "metadata": {
        "id": "bioiMTTfeC3-"
      },
      "execution_count": null,
      "outputs": []
    },
    {
      "cell_type": "markdown",
      "source": [
        "## Scrape Reddit Including Comments"
      ],
      "metadata": {
        "id": "jEq4m0tgeGXm"
      }
    },
    {
      "cell_type": "code",
      "source": [
        "# Scrape Reddit including comments\n",
        "for subreddit_name in subreddits:\n",
        "    subreddit = reddit.subreddit(subreddit_name)\n",
        "    for keyword in keywords:\n",
        "        print(f\"🔍 Searching for '{keyword}' in r/{subreddit_name}\")\n",
        "        try:\n",
        "            for post in subreddit.search(keyword, sort='new', limit=100):\n",
        "                post_date = datetime.utcfromtimestamp(post.created_utc).strftime('%Y-%m-%d')\n",
        "                post.comments.replace_more(limit=0)  # Flatten the comment tree\n",
        "                comments = [comment.body for comment in post.comments.list()[:10]]  # Get top 10 comments only\n",
        "\n",
        "                posts_data.append({\n",
        "                    'title': post.title,\n",
        "                    'text': post.selftext,\n",
        "                    'comments': \" || \".join(comments),  # Combine comments with separator\n",
        "                    'date': post_date,\n",
        "                    'score': post.score,\n",
        "                    'num_comments': post.num_comments,\n",
        "                    'created_utc': post.created_utc,\n",
        "                    'subreddit': subreddit_name,\n",
        "                    'keyword': keyword,\n",
        "                    'url': post.url\n",
        "                })\n",
        "        except Exception as e:\n",
        "            print(f\"⚠️ Error in r/{subreddit_name}: {e}\")\n"
      ],
      "metadata": {
        "id": "S6ZmhX5weIhu"
      },
      "execution_count": null,
      "outputs": []
    },
    {
      "cell_type": "markdown",
      "source": [
        "## Convert Data to DataFrame"
      ],
      "metadata": {
        "id": "8GlT3f8DeS3-"
      }
    },
    {
      "cell_type": "code",
      "source": [
        "\n",
        "# Convert to DataFrame\n",
        "df = pd.DataFrame(posts_data)"
      ],
      "metadata": {
        "id": "AfoMEhZyeWcG"
      },
      "execution_count": null,
      "outputs": []
    },
    {
      "cell_type": "markdown",
      "source": [
        "## Save Data to CSV\n"
      ],
      "metadata": {
        "id": "IUqhICvdeXMu"
      }
    },
    {
      "cell_type": "code",
      "source": [
        "# Save to CSV\n",
        "df.to_csv('reddit_food_delivery_sentiments4.csv', index=False)\n"
      ],
      "metadata": {
        "id": "FhtFFq9-eZeu"
      },
      "execution_count": null,
      "outputs": []
    },
    {
      "cell_type": "markdown",
      "source": [
        "## Show Preview of the Data"
      ],
      "metadata": {
        "id": "hGw-tr4Xec6m"
      }
    },
    {
      "cell_type": "code",
      "source": [
        "# Show preview\n",
        "df.head()\n"
      ],
      "metadata": {
        "id": "bubp-nPvE7z1"
      },
      "execution_count": null,
      "outputs": []
    }
  ]
}